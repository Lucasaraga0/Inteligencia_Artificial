{
 "cells": [
  {
   "cell_type": "markdown",
   "metadata": {},
   "source": [
    "### Aluno: Lucas Rodrigues Aragão (538390)"
   ]
  },
  {
   "cell_type": "code",
   "execution_count": null,
   "metadata": {},
   "outputs": [],
   "source": [
    "import numpy as np"
   ]
  },
  {
   "cell_type": "markdown",
   "metadata": {},
   "source": [
    "### Algoritmo Genético   "
   ]
  },
  {
   "cell_type": "code",
   "execution_count": null,
   "metadata": {},
   "outputs": [],
   "source": [
    "def algoritmo_genetico(populacao):\n",
    "    \n",
    "    \"\"\"\n",
    "    Retorna a melhor solucao apos um numero indefinido de iteracoes (geracoes de solucoes)\n",
    "    \"\"\"\n",
    "    \n",
    "    def fitness_function():\n",
    "        pass\n",
    "    \n",
    "    \n",
    "    \n",
    "    pass\n",
    "\n",
    "def mutate(child):\n",
    "    \"\"\"\n",
    "    Faz mutacoes em uma solucao filha \n",
    "    \"\"\"\n",
    "    pass\n",
    "\n",
    "def reproduce(parent_1,parent_2):\n",
    "\n",
    "    \"\"\"\n",
    "    Retorna o individuo resultante do cruzamento entre os pais \n",
    "    \"\"\"\n",
    "    n = len(parent_1)\n",
    "    c = np.random.randint(low = 1, high = n)\n",
    "    lista_resultante = parent_1[:c]\n",
    "    lista_resultante.append(parent_2[c:])\n",
    "    return lista_resultante\n"
   ]
  },
  {
   "cell_type": "markdown",
   "metadata": {},
   "source": [
    "### Colônia de Formigas"
   ]
  },
  {
   "cell_type": "code",
   "execution_count": null,
   "metadata": {},
   "outputs": [],
   "source": []
  },
  {
   "cell_type": "markdown",
   "metadata": {},
   "source": [
    "### Execuções"
   ]
  },
  {
   "cell_type": "code",
   "execution_count": null,
   "metadata": {},
   "outputs": [],
   "source": [
    "matrix = [[]]"
   ]
  }
 ],
 "metadata": {
  "kernelspec": {
   "display_name": "Python 3",
   "language": "python",
   "name": "python3"
  },
  "language_info": {
   "name": "python",
   "version": "3.8.8"
  }
 },
 "nbformat": 4,
 "nbformat_minor": 2
}
