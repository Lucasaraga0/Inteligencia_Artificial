{
 "cells": [
  {
   "cell_type": "markdown",
   "metadata": {},
   "source": [
    "## Alunos: \n",
    "Guilherme Sousa Lopes ()\n",
    "\n",
    "Gustavo Fernandez Vidal Vazquez  ()\n",
    "\n",
    "Lucas Rodrigues Aragão (538390)\n"
   ]
  },
  {
   "cell_type": "markdown",
   "metadata": {},
   "source": [
    "## Bibliotecas"
   ]
  },
  {
   "cell_type": "code",
   "execution_count": 18,
   "metadata": {},
   "outputs": [],
   "source": [
    "import os\n",
    "import pandas as pd\n",
    "import numpy as np\n",
    "import matplotlib.pyplot as plt\n",
    "from tensorflow.keras.models import Sequential\n",
    "from tensorflow.keras.optimizers import Adam\n",
    "from tensorflow.keras.layers import Conv2D, MaxPooling2D, Dense, Flatten\n",
    "from tensorflow.keras.metrics import Precision, Recall\n",
    "from tensorflow.keras.preprocessing.image import load_img, img_to_array "
   ]
  },
  {
   "cell_type": "markdown",
   "metadata": {},
   "source": [
    "## Dataset escolhido"
   ]
  },
  {
   "cell_type": "markdown",
   "metadata": {},
   "source": [
    "O [dataset](https://www.kaggle.com/datasets/anshtanwar/jellyfish-types) contém 900 imagens de águas-vivas pertencentes a seis categorias e espécies diferentes:\n",
    "\n",
    "- Medusa da Lua (Moon jellyfish/Aurelia aurita): Água-viva comum com quatro gônadas em forma de ferradura visíveis através do topo de sua campânula translúcida. Alimenta-se coletando medusas, plâncton e moluscos com seus tentáculos.\n",
    "- Água-viva-barril (Barrel jellyfish/Rhizostoma pulmo): Maior água-viva encontrada nas águas britânicas, com uma campânula que pode crescer até 90 cm de diâmetro. Alimenta-se de plâncton e pequenos peixes, capturando-os com seus tentáculos.\n",
    "- Água-viva-azul (Blue jellyfish/Cyanea lamarckii): Água-viva grande que pode atingir até 30 cm de diâmetro. Alimenta-se de plâncton e pequenos peixes, capturando-os com seus tentáculos.\n",
    "- Água-viva-bússola (Compas jellyfish/Chrysaora hysoscella): Nomeada devido às marcações marrons em sua campânula que se assemelham a uma rosa-dos-ventos. Alimenta-se de plâncton e pequenos peixes, capturando-os com seus tentáculos.\n",
    "- Água-viva-juba-de-leão (Lion´s mane jellyfish/Cyanea capillata): Maior água-viva do mundo, com uma campânula que pode crescer até 2 metros de diâmetro e tentáculos que podem atingir até 30 metros de comprimento. Alimenta-se de plâncton e pequenos peixes, capturando-os com seus tentáculos.\n",
    "- Água-viva-luminescente (Mauve Stinger/Pelagia noctiluca): Pequena água-viva com tentáculos longos e estruturas verrugosas em sua campânula cheias de células urticantes. Alimenta-se de outras pequenas águas-vivas e tunicados oceânicos."
   ]
  },
  {
   "cell_type": "markdown",
   "metadata": {},
   "source": [
    "### Pré processamento das imagens"
   ]
  },
  {
   "cell_type": "markdown",
   "metadata": {},
   "source": [
    "Conversão das imagens do dataset para matrizes numpy"
   ]
  },
  {
   "cell_type": "code",
   "execution_count": 28,
   "metadata": {},
   "outputs": [],
   "source": [
    "def converterImagens(dir, name):\n",
    "    data = []\n",
    "    labels = []\n",
    "    classNames = sorted(os.listdir(dir))\n",
    "\n",
    "    for classIndex, className in enumerate(classNames):\n",
    "        classPath = os.path.join(dir, className)\n",
    "        if os.path.isdir(classPath):\n",
    "            for filename in os.listdir(classPath):\n",
    "                imagePath = os.path.join(classPath, filename)\n",
    "                image = load_img(imagePath, target_size = (224,224)) #224,224 eh o tamanho das imagens originais\n",
    "                imageArray = img_to_array(image)/255.0 # divide por 255 p normalizar\n",
    "                data.append(imageArray)\n",
    "                labels.append(classIndex)\n",
    "\n",
    "    data = np.array(data)\n",
    "    labels = np.array(labels)\n",
    "\n",
    "    np.save(f\"data/{name}_images.npy\", data)\n",
    "    np.save(f\"data/{name}_labels.npy\", labels)"
   ]
  },
  {
   "cell_type": "code",
   "execution_count": 29,
   "metadata": {},
   "outputs": [],
   "source": [
    "pathTrain = 'Train_Test_Valid/Train'\n",
    "pathValid = 'Train_Test_Valid/valid'\n",
    "pathTest = 'Train_Test_Valid/test'\n",
    "converterImagens(pathTrain, \"train\")\n",
    "converterImagens(pathValid, \"valid\")\n",
    "converterImagens(pathTest, \"test\")"
   ]
  },
  {
   "cell_type": "markdown",
   "metadata": {},
   "source": [
    "## Treinamento"
   ]
  },
  {
   "cell_type": "code",
   "execution_count": 56,
   "metadata": {},
   "outputs": [],
   "source": [
    "from tensorflow.keras.utils import to_categorical\n",
    "\n",
    "trainFeatures = np.load(\"data/train_images.npy\")\n",
    "trainLabels = np.load(\"data/train_labels.npy\")\n",
    "\n",
    "valFeatures = np.load(\"data/valid_images.npy\")\n",
    "valLabels = np.load(\"data/valid_labels.npy\")\n",
    "\n",
    "numClasses = len(np.unique(trainLabels))\n",
    "trainLabels = to_categorical(trainLabels, numClasses)\n",
    "valLabels = to_categorical(valLabels, numClasses)\n",
    "\n",
    "trainFeatures = np.array(trainFeatures, dtype=np.float32)\n",
    "valFeatures = np.array(valFeatures, dtype=np.float32)"
   ]
  },
  {
   "cell_type": "code",
   "execution_count": 58,
   "metadata": {},
   "outputs": [
    {
     "name": "stdout",
     "output_type": "stream",
     "text": [
      "(900, 224, 224, 3)\n"
     ]
    }
   ],
   "source": [
    "print(trainFeatures.shape)"
   ]
  },
  {
   "cell_type": "markdown",
   "metadata": {},
   "source": [
    "### Modelagem da rede neural"
   ]
  },
  {
   "cell_type": "code",
   "execution_count": 59,
   "metadata": {},
   "outputs": [],
   "source": [
    "numFilters = 16\n",
    "filterSize = (3, 3)\n",
    "poolSize = (2, 2)\n",
    "inputShape = (224, 224, 3)\n",
    "\n",
    "model = Sequential([\n",
    "    Conv2D(numFilters, filterSize, activation=\"relu\", input_shape=inputShape),\n",
    "    MaxPooling2D(pool_size=poolSize),\n",
    "    Flatten(),\n",
    "    Dense(128, activation=\"relu\"),\n",
    "    Dense(numClasses, activation=\"softmax\")  \n",
    "])"
   ]
  },
  {
   "cell_type": "code",
   "execution_count": 64,
   "metadata": {},
   "outputs": [],
   "source": [
    "model.compile(optimizer=\"adam\", \n",
    "              loss=\"categorical_crossentropy\", \n",
    "              metrics=[\"accuracy\", Precision(), Recall()])"
   ]
  },
  {
   "cell_type": "code",
   "execution_count": 61,
   "metadata": {},
   "outputs": [
    {
     "name": "stdout",
     "output_type": "stream",
     "text": [
      "trainFeatures shape: (900, 224, 224, 3)\n",
      "trainLabels shape: (900, 6)\n",
      "valFeatures shape: (39, 224, 224, 3)\n",
      "valLabels shape: (39, 6)\n"
     ]
    }
   ],
   "source": [
    "print(\"trainFeatures shape:\", trainFeatures.shape)\n",
    "print(\"trainLabels shape:\", trainLabels.shape)\n",
    "print(\"valFeatures shape:\", valFeatures.shape)\n",
    "print(\"valLabels shape:\", valLabels.shape)"
   ]
  },
  {
   "cell_type": "code",
   "execution_count": 79,
   "metadata": {},
   "outputs": [
    {
     "name": "stdout",
     "output_type": "stream",
     "text": [
      "Epoch 1/20\n",
      "\u001b[1m29/29\u001b[0m \u001b[32m━━━━━━━━━━━━━━━━━━━━\u001b[0m\u001b[37m\u001b[0m \u001b[1m9s\u001b[0m 261ms/step - accuracy: 0.9806 - loss: 0.1085 - precision_5: 0.9858 - recall_5: 0.9744 - val_accuracy: 0.5641 - val_loss: 2.0371 - val_precision_5: 0.5714 - val_recall_5: 0.5128\n",
      "Epoch 2/20\n",
      "\u001b[1m29/29\u001b[0m \u001b[32m━━━━━━━━━━━━━━━━━━━━\u001b[0m\u001b[37m\u001b[0m \u001b[1m7s\u001b[0m 228ms/step - accuracy: 0.9881 - loss: 0.0721 - precision_5: 0.9929 - recall_5: 0.9810 - val_accuracy: 0.4872 - val_loss: 2.0611 - val_precision_5: 0.4848 - val_recall_5: 0.4103\n",
      "Epoch 3/20\n",
      "\u001b[1m29/29\u001b[0m \u001b[32m━━━━━━━━━━━━━━━━━━━━\u001b[0m\u001b[37m\u001b[0m \u001b[1m7s\u001b[0m 224ms/step - accuracy: 0.9977 - loss: 0.0503 - precision_5: 0.9977 - recall_5: 0.9959 - val_accuracy: 0.5385 - val_loss: 1.8045 - val_precision_5: 0.5882 - val_recall_5: 0.5128\n",
      "Epoch 4/20\n",
      "\u001b[1m29/29\u001b[0m \u001b[32m━━━━━━━━━━━━━━━━━━━━\u001b[0m\u001b[37m\u001b[0m \u001b[1m7s\u001b[0m 224ms/step - accuracy: 1.0000 - loss: 0.0338 - precision_5: 1.0000 - recall_5: 1.0000 - val_accuracy: 0.5897 - val_loss: 1.9412 - val_precision_5: 0.6562 - val_recall_5: 0.5385\n",
      "Epoch 5/20\n",
      "\u001b[1m29/29\u001b[0m \u001b[32m━━━━━━━━━━━━━━━━━━━━\u001b[0m\u001b[37m\u001b[0m \u001b[1m7s\u001b[0m 223ms/step - accuracy: 0.9982 - loss: 0.0295 - precision_5: 0.9982 - recall_5: 0.9968 - val_accuracy: 0.5641 - val_loss: 2.0200 - val_precision_5: 0.6875 - val_recall_5: 0.5641\n",
      "Epoch 6/20\n",
      "\u001b[1m29/29\u001b[0m \u001b[32m━━━━━━━━━━━━━━━━━━━━\u001b[0m\u001b[37m\u001b[0m \u001b[1m7s\u001b[0m 221ms/step - accuracy: 1.0000 - loss: 0.0185 - precision_5: 1.0000 - recall_5: 1.0000 - val_accuracy: 0.5385 - val_loss: 2.0847 - val_precision_5: 0.6176 - val_recall_5: 0.5385\n",
      "Epoch 7/20\n",
      "\u001b[1m29/29\u001b[0m \u001b[32m━━━━━━━━━━━━━━━━━━━━\u001b[0m\u001b[37m\u001b[0m \u001b[1m7s\u001b[0m 224ms/step - accuracy: 1.0000 - loss: 0.0155 - precision_5: 1.0000 - recall_5: 1.0000 - val_accuracy: 0.5641 - val_loss: 2.0606 - val_precision_5: 0.6286 - val_recall_5: 0.5641\n",
      "Epoch 8/20\n",
      "\u001b[1m29/29\u001b[0m \u001b[32m━━━━━━━━━━━━━━━━━━━━\u001b[0m\u001b[37m\u001b[0m \u001b[1m7s\u001b[0m 221ms/step - accuracy: 1.0000 - loss: 0.0149 - precision_5: 1.0000 - recall_5: 1.0000 - val_accuracy: 0.5641 - val_loss: 2.1130 - val_precision_5: 0.6000 - val_recall_5: 0.5385\n",
      "Epoch 9/20\n",
      "\u001b[1m29/29\u001b[0m \u001b[32m━━━━━━━━━━━━━━━━━━━━\u001b[0m\u001b[37m\u001b[0m \u001b[1m7s\u001b[0m 223ms/step - accuracy: 1.0000 - loss: 0.0146 - precision_5: 1.0000 - recall_5: 1.0000 - val_accuracy: 0.5641 - val_loss: 2.1350 - val_precision_5: 0.5938 - val_recall_5: 0.4872\n",
      "Epoch 10/20\n",
      "\u001b[1m29/29\u001b[0m \u001b[32m━━━━━━━━━━━━━━━━━━━━\u001b[0m\u001b[37m\u001b[0m \u001b[1m7s\u001b[0m 224ms/step - accuracy: 1.0000 - loss: 0.0094 - precision_5: 1.0000 - recall_5: 1.0000 - val_accuracy: 0.5641 - val_loss: 2.1021 - val_precision_5: 0.6471 - val_recall_5: 0.5641\n",
      "Epoch 11/20\n",
      "\u001b[1m29/29\u001b[0m \u001b[32m━━━━━━━━━━━━━━━━━━━━\u001b[0m\u001b[37m\u001b[0m \u001b[1m7s\u001b[0m 223ms/step - accuracy: 1.0000 - loss: 0.0109 - precision_5: 1.0000 - recall_5: 1.0000 - val_accuracy: 0.5385 - val_loss: 2.1658 - val_precision_5: 0.6000 - val_recall_5: 0.5385\n",
      "Epoch 12/20\n",
      "\u001b[1m29/29\u001b[0m \u001b[32m━━━━━━━━━━━━━━━━━━━━\u001b[0m\u001b[37m\u001b[0m \u001b[1m7s\u001b[0m 224ms/step - accuracy: 1.0000 - loss: 0.0087 - precision_5: 1.0000 - recall_5: 1.0000 - val_accuracy: 0.5897 - val_loss: 2.2066 - val_precision_5: 0.6286 - val_recall_5: 0.5641\n",
      "Epoch 13/20\n",
      "\u001b[1m29/29\u001b[0m \u001b[32m━━━━━━━━━━━━━━━━━━━━\u001b[0m\u001b[37m\u001b[0m \u001b[1m7s\u001b[0m 223ms/step - accuracy: 1.0000 - loss: 0.0073 - precision_5: 1.0000 - recall_5: 1.0000 - val_accuracy: 0.5897 - val_loss: 2.2159 - val_precision_5: 0.6471 - val_recall_5: 0.5641\n",
      "Epoch 14/20\n",
      "\u001b[1m29/29\u001b[0m \u001b[32m━━━━━━━━━━━━━━━━━━━━\u001b[0m\u001b[37m\u001b[0m \u001b[1m8s\u001b[0m 268ms/step - accuracy: 1.0000 - loss: 0.0066 - precision_5: 1.0000 - recall_5: 1.0000 - val_accuracy: 0.5641 - val_loss: 2.2593 - val_precision_5: 0.6286 - val_recall_5: 0.5641\n",
      "Epoch 15/20\n",
      "\u001b[1m29/29\u001b[0m \u001b[32m━━━━━━━━━━━━━━━━━━━━\u001b[0m\u001b[37m\u001b[0m \u001b[1m7s\u001b[0m 247ms/step - accuracy: 1.0000 - loss: 0.0054 - precision_5: 1.0000 - recall_5: 1.0000 - val_accuracy: 0.5641 - val_loss: 2.2864 - val_precision_5: 0.6176 - val_recall_5: 0.5385\n",
      "Epoch 16/20\n",
      "\u001b[1m29/29\u001b[0m \u001b[32m━━━━━━━━━━━━━━━━━━━━\u001b[0m\u001b[37m\u001b[0m \u001b[1m7s\u001b[0m 253ms/step - accuracy: 1.0000 - loss: 0.0051 - precision_5: 1.0000 - recall_5: 1.0000 - val_accuracy: 0.5897 - val_loss: 2.3372 - val_precision_5: 0.6053 - val_recall_5: 0.5897\n",
      "Epoch 17/20\n",
      "\u001b[1m29/29\u001b[0m \u001b[32m━━━━━━━━━━━━━━━━━━━━\u001b[0m\u001b[37m\u001b[0m \u001b[1m7s\u001b[0m 231ms/step - accuracy: 1.0000 - loss: 0.0047 - precision_5: 1.0000 - recall_5: 1.0000 - val_accuracy: 0.5897 - val_loss: 2.3057 - val_precision_5: 0.6111 - val_recall_5: 0.5641\n",
      "Epoch 18/20\n",
      "\u001b[1m29/29\u001b[0m \u001b[32m━━━━━━━━━━━━━━━━━━━━\u001b[0m\u001b[37m\u001b[0m \u001b[1m7s\u001b[0m 231ms/step - accuracy: 1.0000 - loss: 0.0040 - precision_5: 1.0000 - recall_5: 1.0000 - val_accuracy: 0.5897 - val_loss: 2.3444 - val_precision_5: 0.6111 - val_recall_5: 0.5641\n",
      "Epoch 19/20\n",
      "\u001b[1m29/29\u001b[0m \u001b[32m━━━━━━━━━━━━━━━━━━━━\u001b[0m\u001b[37m\u001b[0m \u001b[1m7s\u001b[0m 224ms/step - accuracy: 1.0000 - loss: 0.0037 - precision_5: 1.0000 - recall_5: 1.0000 - val_accuracy: 0.5897 - val_loss: 2.2854 - val_precision_5: 0.6000 - val_recall_5: 0.5385\n",
      "Epoch 20/20\n",
      "\u001b[1m29/29\u001b[0m \u001b[32m━━━━━━━━━━━━━━━━━━━━\u001b[0m\u001b[37m\u001b[0m \u001b[1m7s\u001b[0m 246ms/step - accuracy: 1.0000 - loss: 0.0038 - precision_5: 1.0000 - recall_5: 1.0000 - val_accuracy: 0.5641 - val_loss: 2.3553 - val_precision_5: 0.6111 - val_recall_5: 0.5641\n"
     ]
    }
   ],
   "source": [
    "history = model.fit(trainFeatures, trainLabels, epochs=20, batch_size=32, validation_data=(valFeatures, valLabels))"
   ]
  },
  {
   "cell_type": "markdown",
   "metadata": {},
   "source": [
    "## Resultados"
   ]
  },
  {
   "cell_type": "code",
   "execution_count": 80,
   "metadata": {},
   "outputs": [
    {
     "name": "stdout",
     "output_type": "stream",
     "text": [
      "dict_keys(['accuracy', 'loss', 'precision_5', 'recall_5', 'val_accuracy', 'val_loss', 'val_precision_5', 'val_recall_5'])\n"
     ]
    }
   ],
   "source": [
    "# Exemplo de acesso às métricas\n",
    "print(history.history.keys())  # Mostra as métricas disponíveis\n",
    "\n",
    "# Acessando as métricas de treino\n",
    "train_accuracy = history.history['accuracy']\n",
    "train_loss = history.history['loss']\n",
    "train_precision = history.history['precision_5']  # Se você adicionou Precision()\n",
    "train_recall = history.history['recall_5']  # Se você adicionou Recall()\n",
    "\n",
    "# Acessando as métricas de validação\n",
    "val_accuracy = history.history['val_accuracy']\n",
    "val_loss = history.history['val_loss']\n",
    "val_precision = history.history['val_precision_5']  # Se você adicionou Precision()\n",
    "val_recall = history.history['val_recall_5']  # Se você adicionou Recall()"
   ]
  },
  {
   "cell_type": "code",
   "execution_count": 81,
   "metadata": {},
   "outputs": [
    {
     "data": {
      "image/png": "[encoded data removed]",
      "text/plain": [
       "<Figure size 640x480 with 1 Axes>"
      ]
     },
     "metadata": {},
     "output_type": "display_data"
    },
    {
     "data": {
      "image/png": "[encoded data removed]",
      "text/plain": [
       "<Figure size 640x480 with 1 Axes>"
      ]
     },
     "metadata": {},
     "output_type": "display_data"
    }
   ],
   "source": [
    "import matplotlib.pyplot as plt\n",
    "\n",
    "# Plotar acurácia de treino e validação\n",
    "plt.plot(train_accuracy, label='Train Accuracy')\n",
    "plt.plot(val_accuracy, label='Validation Accuracy')\n",
    "plt.title('Acurácia durante o treinamento')\n",
    "plt.xlabel('Época')\n",
    "plt.ylabel('Acurácia')\n",
    "plt.legend()\n",
    "plt.show()\n",
    "\n",
    "# Plotar perda de treino e validação\n",
    "plt.plot(train_loss, label='Train Loss')\n",
    "plt.plot(val_loss, label='Validation Loss')\n",
    "plt.title('Perda durante o treinamento')\n",
    "plt.xlabel('Época')\n",
    "plt.ylabel('Perda')\n",
    "plt.legend()\n",
    "plt.show()"
   ]
  },
  {
   "cell_type": "markdown",
   "metadata": {},
   "source": [
    "## Treinamento"
   ]
  },
  {
   "cell_type": "code",
   "execution_count": 82,
   "metadata": {},
   "outputs": [],
   "source": [
    "# Carregar dados de teste\n",
    "testFeatures = np.load(\"data/test_images.npy\")\n",
    "testLabels = np.load(\"data/test_labels.npy\")\n",
    "\n",
    "# Codificar rótulos em one-hot (se necessário)\n",
    "testLabels = to_categorical(testLabels, numClasses)"
   ]
  },
  {
   "cell_type": "code",
   "execution_count": 83,
   "metadata": {},
   "outputs": [
    {
     "name": "stdout",
     "output_type": "stream",
     "text": [
      "\u001b[1m2/2\u001b[0m \u001b[32m━━━━━━━━━━━━━━━━━━━━\u001b[0m\u001b[37m\u001b[0m \u001b[1m0s\u001b[0m 63ms/step - accuracy: 0.4667 - loss: 1.6486 - precision_5: 0.5368 - recall_5: 0.4667\n",
      "Test Loss: 1.7041785717010498\n",
      "Test Accuracy: 0.44999998807907104\n",
      "Test Precision: 0.529411792755127\n",
      "Test Recall: 0.44999998807907104\n"
     ]
    }
   ],
   "source": [
    "# Avaliar o modelo nos dados de teste\n",
    "test_loss, test_accuracy, test_precision, test_recall = model.evaluate(testFeatures, testLabels)\n",
    "\n",
    "# Exibir os resultados\n",
    "print(f\"Test Loss: {test_loss}\")\n",
    "print(f\"Test Accuracy: {test_accuracy}\")\n",
    "print(f\"Test Precision: {test_precision}\")\n",
    "print(f\"Test Recall: {test_recall}\")"
   ]
  },
  {
   "cell_type": "code",
   "execution_count": 84,
   "metadata": {},
   "outputs": [
    {
     "name": "stdout",
     "output_type": "stream",
     "text": [
      "\u001b[1m2/2\u001b[0m \u001b[32m━━━━━━━━━━━━━━━━━━━━\u001b[0m\u001b[37m\u001b[0m \u001b[1m0s\u001b[0m 53ms/step\n",
      "Imagem 0: Classe predita = 2, Classe verdadeira = 0\n",
      "Imagem 1: Classe predita = 2, Classe verdadeira = 0\n",
      "Imagem 2: Classe predita = 0, Classe verdadeira = 0\n",
      "Imagem 3: Classe predita = 0, Classe verdadeira = 0\n",
      "Imagem 4: Classe predita = 2, Classe verdadeira = 0\n"
     ]
    }
   ],
   "source": [
    "# Fazer previsões\n",
    "predictions = model.predict(testFeatures)\n",
    "\n",
    "# predictions será um array com as probabilidades para cada classe\n",
    "# Para obter a classe predita, use np.argmax:\n",
    "predicted_classes = np.argmax(predictions, axis=1)\n",
    "\n",
    "# Se os rótulos de teste estiverem em one-hot, converta de volta para inteiros\n",
    "true_classes = np.argmax(testLabels, axis=1)\n",
    "\n",
    "# Exibir algumas previsões\n",
    "for i in range(5):  # Exibe as 5 primeiras previsões\n",
    "    print(f\"Imagem {i}: Classe predita = {predicted_classes[i]}, Classe verdadeira = {true_classes[i]}\") "
   ]
  }
 ],
 "metadata": {
  "kernelspec": {
   "display_name": "Python 3",
   "language": "python",
   "name": "python3"
  },
  "language_info": {
   "codemirror_mode": {
    "name": "ipython",
    "version": 3
   },
   "file_extension": ".py",
   "mimetype": "text/x-python",
   "name": "python",
   "nbconvert_exporter": "python",
   "pygments_lexer": "ipython3",
   "version": "3.12.7"
  }
 },
 "nbformat": 4,
 "nbformat_minor": 2
}
