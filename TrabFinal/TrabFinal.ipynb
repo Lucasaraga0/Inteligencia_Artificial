{
 "cells": [
  {
   "cell_type": "markdown",
   "metadata": {},
   "source": [
    "## Alunos: \n",
    "Guilherme Sousa Lopes ()\n",
    "\n",
    "Gustavo Fernandez Vidal Vazquez  ()\n",
    "\n",
    "Lucas Rodrigues Aragão (538390)\n"
   ]
  },
  {
   "cell_type": "markdown",
   "metadata": {},
   "source": [
    "## Bibliotecas"
   ]
  },
  {
   "cell_type": "code",
   "execution_count": 2,
   "metadata": {},
   "outputs": [],
   "source": [
    "import pandas as pd\n",
    "from tensorflow import keras \n",
    "import matplotlib.pyplot as plt\n",
    "from sklearn.model_selection import train_test_split\n",
    "from sklearn.preprocessing import StandardScaler"
   ]
  },
  {
   "cell_type": "markdown",
   "metadata": {},
   "source": [
    "## Dataset escolhido"
   ]
  },
  {
   "cell_type": "markdown",
   "metadata": {},
   "source": [
    "Este conjunto de dados contém 900 imagens de águas-vivas pertencentes a seis categorias e espécies diferentes: água-viva-luminescente, água-viva-da-lua, água-viva-barril, água-viva-azul, água-viva-bússola e água-viva-juba-de-leão.\n",
    "\n",
    "- Medusa da Lua (Moon jellyfish/Aurelia aurita): Água-viva comum com quatro gônadas em forma de ferradura visíveis através do topo de sua campânula translúcida. Alimenta-se coletando medusas, plâncton e moluscos com seus tentáculos.\n",
    "- Água-viva-barril (Barrel jellyfish/Rhizostoma pulmo): Maior água-viva encontrada nas águas britânicas, com uma campânula que pode crescer até 90 cm de diâmetro. Alimenta-se de plâncton e pequenos peixes, capturando-os com seus tentáculos.\n",
    "- Água-viva-azul (Blue jellyfish/Cyanea lamarckii): Água-viva grande que pode atingir até 30 cm de diâmetro. Alimenta-se de plâncton e pequenos peixes, capturando-os com seus tentáculos.\n",
    "- Água-viva-bússola (Compas jellyfish/Chrysaora hysoscella): Nomeada devido às marcações marrons em sua campânula que se assemelham a uma rosa-dos-ventos. Alimenta-se de plâncton e pequenos peixes, capturando-os com seus tentáculos.\n",
    "- Água-viva-juba-de-leão (Lion´s mane jellyfish/Cyanea capillata): Maior água-viva do mundo, com uma campânula que pode crescer até 2 metros de diâmetro e tentáculos que podem atingir até 30 metros de comprimento. Alimenta-se de plâncton e pequenos peixes, capturando-os com seus tentáculos.\n",
    "- Água-viva-luminescente (Mauve Stinger/Pelagia noctiluca): Pequena água-viva com tentáculos longos e estruturas verrugosas em sua campânula cheias de células urticantes. Alimenta-se de outras pequenas águas-vivas e tunicados oceânicos."
   ]
  },
  {
   "cell_type": "markdown",
   "metadata": {},
   "source": [
    "## Treinamento"
   ]
  },
  {
   "cell_type": "code",
   "execution_count": null,
   "metadata": {},
   "outputs": [],
   "source": []
  },
  {
   "cell_type": "markdown",
   "metadata": {},
   "source": [
    "## Resultados"
   ]
  },
  {
   "cell_type": "code",
   "execution_count": null,
   "metadata": {},
   "outputs": [],
   "source": []
  }
 ],
 "metadata": {
  "kernelspec": {
   "display_name": "Python 3",
   "language": "python",
   "name": "python3"
  },
  "language_info": {
   "codemirror_mode": {
    "name": "ipython",
    "version": 3
   },
   "file_extension": ".py",
   "mimetype": "text/x-python",
   "name": "python",
   "nbconvert_exporter": "python",
   "pygments_lexer": "ipython3",
   "version": "3.12.7"
  }
 },
 "nbformat": 4,
 "nbformat_minor": 2
}
