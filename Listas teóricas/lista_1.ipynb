{
 "cells": [
  {
   "cell_type": "code",
   "execution_count": null,
   "metadata": {},
   "outputs": [],
   "source": [
    "#canibais e missionarios\n",
    "\n",
    "#para esse problema faz mais sentido \n",
    "\n",
    "class Grafo():\n",
    "    pass\n",
    "\n",
    "def DFS(grafo, inicio, objetivo):\n",
    "    pilha = [inicio]\n",
    "    visited = set()\n",
    "    visited.add(inicio)\n",
    "    antecessor = None\n",
    "    caminhos = []\n",
    "    while pilha != []:\n",
    "        no_atual = pilha.pop()\n",
    "        if no_atual == objetivo:\n",
    "            caminho = [antecessor, no_atual]\n",
    "            caminhos.append(caminho)\n",
    "            return caminhos\n",
    "        for vizinho in grafo[no_atual]:\n",
    "            if vizinho not in visited:\n",
    "                caminho = [antecessor, no_atual]\n",
    "                caminhos.append(caminho)\n",
    "                visited.add(vizinho)\n",
    "        antecessor = no_atual\n",
    "\n",
    "    print(f\"nao tem caminho de {inicio} para {objetivo}\")\n",
    "\n",
    "def BFS(grafo, inicio, objetivo):\n",
    "    fila = [inicio]\n",
    "    visited = set()\n",
    "    visited.add(inicio)\n",
    "    antecessor = None\n",
    "    caminhos = []\n",
    "\n",
    "    while fila != []:\n",
    "        no_atual = fila.pop(0)\n",
    "        if no_atual == objetivo:\n",
    "            caminho = [antecessor, no_atual]\n",
    "            caminhos.append(caminho)\n",
    "            return caminhos\n",
    "        for vizinho in grafo[no_atual]:\n",
    "            if vizinho not in visited():\n",
    "                caminho = [antecessor, no_atual]\n",
    "                caminhos.append(caminho)\n",
    "                visited.add(vizinho)\n",
    "        antecessor = no_atual\n",
    "    print(f\"nao tem caminho de {inicio} para {objetivo}\")\n"
   ]
  }
 ],
 "metadata": {
  "kernelspec": {
   "display_name": "Python 3",
   "language": "python",
   "name": "python3"
  },
  "language_info": {
   "name": "python",
   "version": "3.8.8"
  }
 },
 "nbformat": 4,
 "nbformat_minor": 2
}
